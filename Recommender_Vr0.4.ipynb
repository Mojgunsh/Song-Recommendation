{
 "cells": [
  {
   "cell_type": "code",
   "execution_count": 1,
   "id": "ba361429",
   "metadata": {},
   "outputs": [
    {
     "name": "stdout",
     "output_type": "stream",
     "text": [
      "\u001b[5m\u001b[7m\u001b[1m\u001b[30mM^2 Production\u001b[0m\n",
      "    \n",
      "\u001b[1m\u001b[32m************************************************************\u001b[0m\n",
      "What is your favorite song? 1\n",
      "Who is the Artist ? 1\n",
      "\u001b[1m\u001b[32m************************************************************\u001b[0m\n",
      "\n",
      "\u001b[1m\u001b[33mWe couldn't find your Song. Let's see how you would feel about this one ;) \u001b[0m\n",
      "\n",
      "\u001b[1m Ordinary People \u001b[0m   by   \u001b[1m John Legend \u001b[0m\n",
      "You can access it from here: https://open.spotify.com/artist/5y2Xq6xcjJb2jVM54GHK3t\n"
     ]
    }
   ],
   "source": [
    "from functions_v5 import *\n",
    "recommndation()"
   ]
  },
  {
   "cell_type": "code",
   "execution_count": null,
   "id": "e79098a3",
   "metadata": {},
   "outputs": [],
   "source": []
  }
 ],
 "metadata": {
  "kernelspec": {
   "display_name": "Python 3 (ipykernel)",
   "language": "python",
   "name": "python3"
  },
  "language_info": {
   "codemirror_mode": {
    "name": "ipython",
    "version": 3
   },
   "file_extension": ".py",
   "mimetype": "text/x-python",
   "name": "python",
   "nbconvert_exporter": "python",
   "pygments_lexer": "ipython3",
   "version": "3.9.7"
  },
  "toc": {
   "base_numbering": 1,
   "nav_menu": {},
   "number_sections": true,
   "sideBar": true,
   "skip_h1_title": false,
   "title_cell": "Table of Contents",
   "title_sidebar": "Contents",
   "toc_cell": false,
   "toc_position": {},
   "toc_section_display": true,
   "toc_window_display": false
  },
  "varInspector": {
   "cols": {
    "lenName": 16,
    "lenType": 16,
    "lenVar": 40
   },
   "kernels_config": {
    "python": {
     "delete_cmd_postfix": "",
     "delete_cmd_prefix": "del ",
     "library": "var_list.py",
     "varRefreshCmd": "print(var_dic_list())"
    },
    "r": {
     "delete_cmd_postfix": ") ",
     "delete_cmd_prefix": "rm(",
     "library": "var_list.r",
     "varRefreshCmd": "cat(var_dic_list()) "
    }
   },
   "types_to_exclude": [
    "module",
    "function",
    "builtin_function_or_method",
    "instance",
    "_Feature"
   ],
   "window_display": false
  }
 },
 "nbformat": 4,
 "nbformat_minor": 5
}
